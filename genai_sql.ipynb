{
 "cells": [
  {
   "cell_type": "code",
   "execution_count": 1,
   "id": "f48fbb53",
   "metadata": {},
   "outputs": [],
   "source": [
    "from langchain.utilities import SQLDatabase\n",
    "from langchain_experimental.sql import SQLDatabaseChain\n",
    "from dotenv import load_dotenv\n",
    "from langchain.llms import OpenAI\n",
    "import os"
   ]
  },
  {
   "cell_type": "markdown",
   "id": "5ff82c00",
   "metadata": {},
   "source": [
    "#### OpenAI LLM & API key setup"
   ]
  },
  {
   "cell_type": "code",
   "execution_count": 2,
   "id": "82fea4d4",
   "metadata": {},
   "outputs": [
    {
     "data": {
      "text/plain": [
       "True"
      ]
     },
     "execution_count": 2,
     "metadata": {},
     "output_type": "execute_result"
    }
   ],
   "source": [
    " dotenv_path = \"C:/Users/burha/OneDrive/Desktop/Career/api_key.env\"\n",
    "load_dotenv(dotenv_path)"
   ]
  },
  {
   "cell_type": "code",
   "execution_count": 3,
   "id": "67e4bfac",
   "metadata": {},
   "outputs": [],
   "source": [
    "api_key = os.getenv(\"api_key\")\n",
    "llm = OpenAI(openai_api_key=api_key, temperature=0.2)"
   ]
  },
  {
   "cell_type": "markdown",
   "id": "e0c0d700",
   "metadata": {},
   "source": [
    "#### Connect with database"
   ]
  },
  {
   "cell_type": "code",
   "execution_count": 4,
   "id": "23f9ae16",
   "metadata": {},
   "outputs": [
    {
     "name": "stdout",
     "output_type": "stream",
     "text": [
      "\n",
      "CREATE TABLE customers (\n",
      "\t`customerNumber` INTEGER NOT NULL, \n",
      "\t`customerName` VARCHAR(50) NOT NULL, \n",
      "\t`contactLastName` VARCHAR(50) NOT NULL, \n",
      "\t`contactFirstName` VARCHAR(50) NOT NULL, \n",
      "\tphone VARCHAR(50) NOT NULL, \n",
      "\t`addressLine1` VARCHAR(50) NOT NULL, \n",
      "\t`addressLine2` VARCHAR(50), \n",
      "\tcity VARCHAR(50) NOT NULL, \n",
      "\tstate VARCHAR(50), \n",
      "\t`postalCode` VARCHAR(15), \n",
      "\tcountry VARCHAR(50) NOT NULL, \n",
      "\t`salesRepEmployeeNumber` INTEGER, \n",
      "\t`creditLimit` DECIMAL(10, 2), \n",
      "\tPRIMARY KEY (`customerNumber`), \n",
      "\tCONSTRAINT customers_ibfk_1 FOREIGN KEY(`salesRepEmployeeNumber`) REFERENCES employees (`employeeNumber`)\n",
      ")COLLATE utf8mb4_0900_ai_ci DEFAULT CHARSET=utf8mb4 ENGINE=InnoDB\n",
      "\n",
      "/*\n",
      "3 rows from customers table:\n",
      "customerNumber\tcustomerName\tcontactLastName\tcontactFirstName\tphone\taddressLine1\taddressLine2\tcity\tstate\tpostalCode\tcountry\tsalesRepEmployeeNumber\tcreditLimit\n",
      "103\tAtelier graphique\tSchmitt\tCarine \t40.32.2555\t54, rue Royale\tNone\tNantes\tNone\t44000\tFrance\t1370\t21000.00\n",
      "112\tSignal Gift Stores\tKing\tJean\t7025551838\t8489 Strong St.\tNone\tLas Vegas\tNV\t83030\tUSA\t1166\t71800.00\n",
      "114\tAustralian Collectors, Co.\tFerguson\tPeter\t03 9520 4555\t636 St Kilda Road\tLevel 3\tMelbourne\tVictoria\t3004\tAustralia\t1611\t117300.00\n",
      "*/\n",
      "\n",
      "\n",
      "CREATE TABLE employees (\n",
      "\t`employeeNumber` INTEGER NOT NULL, \n",
      "\t`lastName` VARCHAR(50) NOT NULL, \n",
      "\t`firstName` VARCHAR(50) NOT NULL, \n",
      "\textension VARCHAR(10) NOT NULL, \n",
      "\temail VARCHAR(100) NOT NULL, \n",
      "\t`officeCode` VARCHAR(10) NOT NULL, \n",
      "\t`reportsTo` INTEGER, \n",
      "\t`jobTitle` VARCHAR(50) NOT NULL, \n",
      "\tPRIMARY KEY (`employeeNumber`), \n",
      "\tCONSTRAINT employees_ibfk_1 FOREIGN KEY(`reportsTo`) REFERENCES employees (`employeeNumber`), \n",
      "\tCONSTRAINT employees_ibfk_2 FOREIGN KEY(`officeCode`) REFERENCES offices (`officeCode`)\n",
      ")COLLATE utf8mb4_0900_ai_ci DEFAULT CHARSET=utf8mb4 ENGINE=InnoDB\n",
      "\n",
      "/*\n",
      "3 rows from employees table:\n",
      "employeeNumber\tlastName\tfirstName\textension\temail\tofficeCode\treportsTo\tjobTitle\n",
      "1002\tMurphy\tDiane\tx5800\tdmurphy@classicmodelcars.com\t1\tNone\tPresident\n",
      "1056\tPatterson\tMary\tx4611\tmpatterso@classicmodelcars.com\t1\t1002\tVP Sales\n",
      "1076\tFirrelli\tJeff\tx9273\tjfirrelli@classicmodelcars.com\t1\t1002\tVP Marketing\n",
      "*/\n",
      "\n",
      "\n",
      "CREATE TABLE offices (\n",
      "\t`officeCode` VARCHAR(10) NOT NULL, \n",
      "\tcity VARCHAR(50) NOT NULL, \n",
      "\tphone VARCHAR(50) NOT NULL, \n",
      "\t`addressLine1` VARCHAR(50) NOT NULL, \n",
      "\t`addressLine2` VARCHAR(50), \n",
      "\tstate VARCHAR(50), \n",
      "\tcountry VARCHAR(50) NOT NULL, \n",
      "\t`postalCode` VARCHAR(15) NOT NULL, \n",
      "\tterritory VARCHAR(10) NOT NULL, \n",
      "\tPRIMARY KEY (`officeCode`)\n",
      ")COLLATE utf8mb4_0900_ai_ci DEFAULT CHARSET=utf8mb4 ENGINE=InnoDB\n",
      "\n",
      "/*\n",
      "3 rows from offices table:\n",
      "officeCode\tcity\tphone\taddressLine1\taddressLine2\tstate\tcountry\tpostalCode\tterritory\n",
      "1\tSan Francisco\t+1 650 219 4782\t100 Market Street\tSuite 300\tCA\tUSA\t94080\tNA\n",
      "2\tBoston\t+1 215 837 0825\t1550 Court Place\tSuite 102\tMA\tUSA\t02107\tNA\n",
      "3\tNYC\t+1 212 555 3000\t523 East 53rd Street\tapt. 5A\tNY\tUSA\t10022\tNA\n",
      "*/\n",
      "\n",
      "\n",
      "CREATE TABLE orderdetails (\n",
      "\t`orderNumber` INTEGER NOT NULL, \n",
      "\t`productCode` VARCHAR(15) NOT NULL, \n",
      "\t`quantityOrdered` INTEGER NOT NULL, \n",
      "\t`priceEach` DECIMAL(10, 2) NOT NULL, \n",
      "\t`orderLineNumber` SMALLINT NOT NULL, \n",
      "\tPRIMARY KEY (`orderNumber`, `productCode`), \n",
      "\tCONSTRAINT orderdetails_ibfk_1 FOREIGN KEY(`orderNumber`) REFERENCES orders (`orderNumber`), \n",
      "\tCONSTRAINT orderdetails_ibfk_2 FOREIGN KEY(`productCode`) REFERENCES products (`productCode`)\n",
      ")COLLATE utf8mb4_0900_ai_ci DEFAULT CHARSET=utf8mb4 ENGINE=InnoDB\n",
      "\n",
      "/*\n",
      "3 rows from orderdetails table:\n",
      "orderNumber\tproductCode\tquantityOrdered\tpriceEach\torderLineNumber\n",
      "10100\tS18_1749\t30\t136.00\t3\n",
      "10100\tS18_2248\t50\t55.09\t2\n",
      "10100\tS18_4409\t22\t75.46\t4\n",
      "*/\n",
      "\n",
      "\n",
      "CREATE TABLE orders (\n",
      "\t`orderNumber` INTEGER NOT NULL, \n",
      "\t`orderDate` DATE NOT NULL, \n",
      "\t`requiredDate` DATE NOT NULL, \n",
      "\t`shippedDate` DATE, \n",
      "\tstatus VARCHAR(15) NOT NULL, \n",
      "\tcomments TEXT, \n",
      "\t`customerNumber` INTEGER NOT NULL, \n",
      "\tPRIMARY KEY (`orderNumber`), \n",
      "\tCONSTRAINT orders_ibfk_1 FOREIGN KEY(`customerNumber`) REFERENCES customers (`customerNumber`)\n",
      ")COLLATE utf8mb4_0900_ai_ci DEFAULT CHARSET=utf8mb4 ENGINE=InnoDB\n",
      "\n",
      "/*\n",
      "3 rows from orders table:\n",
      "orderNumber\torderDate\trequiredDate\tshippedDate\tstatus\tcomments\tcustomerNumber\n",
      "10100\t2003-01-06\t2003-01-13\t2003-01-10\tShipped\tNone\t363\n",
      "10101\t2003-01-09\t2003-01-18\t2003-01-11\tShipped\tCheck on availability.\t128\n",
      "10102\t2003-01-10\t2003-01-18\t2003-01-14\tShipped\tNone\t181\n",
      "*/\n",
      "\n",
      "\n",
      "CREATE TABLE payments (\n",
      "\t`customerNumber` INTEGER NOT NULL, \n",
      "\t`checkNumber` VARCHAR(50) NOT NULL, \n",
      "\t`paymentDate` DATE NOT NULL, \n",
      "\tamount DECIMAL(10, 2) NOT NULL, \n",
      "\tPRIMARY KEY (`customerNumber`, `checkNumber`), \n",
      "\tCONSTRAINT payments_ibfk_1 FOREIGN KEY(`customerNumber`) REFERENCES customers (`customerNumber`)\n",
      ")COLLATE utf8mb4_0900_ai_ci DEFAULT CHARSET=utf8mb4 ENGINE=InnoDB\n",
      "\n",
      "/*\n",
      "3 rows from payments table:\n",
      "customerNumber\tcheckNumber\tpaymentDate\tamount\n",
      "103\tHQ336336\t2004-10-19\t6066.78\n",
      "103\tJM555205\t2003-06-05\t14571.44\n",
      "103\tOM314933\t2004-12-18\t1676.14\n",
      "*/\n",
      "\n",
      "\n",
      "CREATE TABLE productlines (\n",
      "\t`productLine` VARCHAR(50) NOT NULL, \n",
      "\t`textDescription` VARCHAR(4000), \n",
      "\t`htmlDescription` MEDIUMTEXT, \n",
      "\timage MEDIUMBLOB, \n",
      "\tPRIMARY KEY (`productLine`)\n",
      ")COLLATE utf8mb4_0900_ai_ci DEFAULT CHARSET=utf8mb4 ENGINE=InnoDB\n",
      "\n",
      "/*\n",
      "3 rows from productlines table:\n",
      "productLine\ttextDescription\thtmlDescription\timage\n",
      "Classic Cars\tAttention car enthusiasts: Make your wildest car ownership dreams come true. Whether you are looking\tNone\tNone\n",
      "Motorcycles\tOur motorcycles are state of the art replicas of classic as well as contemporary motorcycle legends \tNone\tNone\n",
      "Planes\tUnique, diecast airplane and helicopter replicas suitable for collections, as well as home, office o\tNone\tNone\n",
      "*/\n",
      "\n",
      "\n",
      "CREATE TABLE products (\n",
      "\t`productCode` VARCHAR(15) NOT NULL, \n",
      "\t`productName` VARCHAR(70) NOT NULL, \n",
      "\t`productLine` VARCHAR(50) NOT NULL, \n",
      "\t`productScale` VARCHAR(10) NOT NULL, \n",
      "\t`productVendor` VARCHAR(50) NOT NULL, \n",
      "\t`productDescription` TEXT NOT NULL, \n",
      "\t`quantityInStock` SMALLINT NOT NULL, \n",
      "\t`buyPrice` DECIMAL(10, 2) NOT NULL, \n",
      "\t`MSRP` DECIMAL(10, 2) NOT NULL, \n",
      "\tPRIMARY KEY (`productCode`), \n",
      "\tCONSTRAINT products_ibfk_1 FOREIGN KEY(`productLine`) REFERENCES productlines (`productLine`)\n",
      ")COLLATE utf8mb4_0900_ai_ci DEFAULT CHARSET=utf8mb4 ENGINE=InnoDB\n",
      "\n",
      "/*\n",
      "3 rows from products table:\n",
      "productCode\tproductName\tproductLine\tproductScale\tproductVendor\tproductDescription\tquantityInStock\tbuyPrice\tMSRP\n",
      "S10_1678\t1969 Harley Davidson Ultimate Chopper\tMotorcycles\t1:10\tMin Lin Diecast\tThis replica features working kickstand, front suspension, gear-shift lever, footbrake lever, drive \t7933\t48.81\t95.70\n",
      "S10_1949\t1952 Alpine Renault 1300\tClassic Cars\t1:10\tClassic Metal Creations\tTurnable front wheels; steering function; detailed interior; detailed engine; opening hood; opening \t7305\t98.58\t214.30\n",
      "S10_2016\t1996 Moto Guzzi 1100i\tMotorcycles\t1:10\tHighway 66 Mini Classics\tOfficial Moto Guzzi logos and insignias, saddle bags located on side of motorcycle, detailed engine,\t6625\t68.99\t118.94\n",
      "*/\n"
     ]
    }
   ],
   "source": [
    "db_user = \"root\"\n",
    "db_password = \"root\"\n",
    "db_host = \"localhost\"\n",
    "db_name = \"classicmodels\"\n",
    "\n",
    "db = SQLDatabase.from_uri(f\"mysql+pymysql://{db_user}:{db_password}@{db_host}/{db_name}\",sample_rows_in_table_info=3)\n",
    "\n",
    "print(db.table_info)"
   ]
  },
  {
   "cell_type": "markdown",
   "id": "afe780d9",
   "metadata": {},
   "source": [
    "#### Few shot learning"
   ]
  },
  {
   "cell_type": "code",
   "execution_count": 7,
   "id": "a75ae546",
   "metadata": {},
   "outputs": [],
   "source": [
    "few_shots = [\n",
    "    {'Question' : \"Who reports to William Patterson?\",\n",
    "     'SQLQuery' : \"SELECT CONCAT(reports.firstname, ' ', reports.lastname) AS Employee FROM Employees boss JOIN Employees reports ON boss.employeeNumber = reports.reportsTo WHERE boss.firstName = 'William' and boss.lastName = 'Patterson';\",\n",
    "     'SQLResult': \"Result of the SQL query\",\n",
    "     'Answer' : \"'Andy Fixter', 'Peter Marsh', 'Tom King'\"},\n",
    "    {'Question': \"Compute the commission for each sales representative, assuming the commission is 5% of the value of an order. Sort by employee last name and first name\",\n",
    "     'SQLQuery': \"SELECT CONCAT(firstName, ' ',lastName) AS Name, FORMAT(.05 * SUM(quantityOrdered * priceEach),0) AS Commission FROM Employees JOIN Customers ON Employees.employeeNumber = Customers.salesRepEmployeeNumber JOIN Orders ON Customers.customerNumber = Orders.customerNumber JOIN OrderDetails ON Orders.orderNumber = OrderDetails.orderNumber GROUP BY employeeNumber ORDER BY lastName, firstName ASC;\",\n",
    "     'SQLResult': \"Result of the SQL query\",\n",
    "     'Answer': \"'Loui Bondur, 28,474', 'Larry Bott, 36,605', 'Pamela Castillo, 43,411', 'Julie Firrelli, 19,333','Andy Fixter, 28,129', 'Martin Gerard, 19,374'......\"},\n",
    "    {'Question': \"What are the top 3 products by quantity of on hand for products listed on 'On Hold' orders?\" ,\n",
    "     'SQLQuery' : \"SELECT productName, FORMAT(quantityInStock,0) AS `Quantity in stock` FROM OrderDetails JOIN Orders ON Orders.orderNumber = OrderDetails.orderNumber JOIN Products on OrderDetails.productCode = Products.productCode WHERE status = 'On Hold' order by quantityInStock desc limit 3;\",\n",
    "     'SQLResult': \"Result of the SQL query\",\n",
    "     'Answer': \"'America West Airlines B757-200, 9,653', '2002 Chevy Corvette, 9,446', '1912 Ford Model T Delivery Wagon, 9,173'\"} ,\n",
    "     {'Question' : \"What is the value of orders shipped in August 2004?\" ,\n",
    "      'SQLQuery': \"SELECT FORMAT(SUM(quantityOrdered*priceEach),0) as orderValue FROM Orders JOIN OrderDetails ON Orders.orderNumber = OrderDetails. orderNumber AND YEAR(orderDate) = 2004 AND MONTH(orderDate) = 8;\",\n",
    "      'SQLResult': \"Result of the SQL query\",\n",
    "      'Answer' : '419,327'},\n",
    "    {'Question' : \"What is the average percentage markup of the MSRP on buyPrice rounded to the nearest deicmal?\" ,\n",
    "      'SQLQuery': \"SELECT ROUND(AVG(MSRP/buyPrice)*100 - 100) from Products;\",\n",
    "      'SQLResult': \"Result of the SQL query\",\n",
    "      'Answer' : '89'},\n",
    "    {'Question' : \"Who are the employees in Boston?\" ,\n",
    "      'SQLQuery': \"SELECT firstName, lastName FROM Employees JOIN Offices ON Employees.officeCode = Offices.officeCode AND city = 'Boston';\",\n",
    "      'SQLResult': \"Result of the SQL query\",\n",
    "      'Answer' : '\"Julie Firrelli\", \"Steve Patterson\"'},\n",
    "    {'Question' : \"List the names of the top 3 products (by inventory) sold at less than 80% of the MSRP.\" ,\n",
    "      'SQLQuery': \"SELECT DISTINCT(productName), priceEach, MSRP, FORMAT(quantityInStock,0) AS `Quantity in stock` FROM OrderDetails JOIN Products ON OrderDetails.productCode = Products.productCode AND priceEach < .8*MSRP;\",\n",
    "      'SQLResult': \"Result of the SQL query\",\n",
    "      'Answer' : '1976 Ford Gran Torino\t117.59\t146.99\t9127, 1965 Aston Martin DB5\t99.55\t124.44\t9042 American Airlines: MD-11S\t59.22\t74.03\t8820'},\n",
    "    {'Question' : \"What are the top 3 most profitable product lines\" ,\n",
    "      'SQLQuery': \"SELECT productLine AS `Product line`, FORMAT(SUM(quantityOrdered*(priceEach -buyPrice)),0) AS Profit FROM Products JOIN OrderDetails ON Products.productCode = OrderDetails.productCode GROUP BY productLine ORDER BY SUM(quantityOrdered*(priceEach -buyPrice)) DESC LIMIT 3;\",\n",
    "      'SQLResult': \"Result of the SQL query\",\n",
    "      'Answer' : 'Classic Cars, Vintage Cars, and Motorcycles'}\n",
    "    \n",
    "\n",
    "    \n",
    "]"
   ]
  },
  {
   "cell_type": "markdown",
   "id": "30f7b3c9",
   "metadata": {},
   "source": [
    "### Creating Semantic Similarity Based example selector\n",
    "\n",
    "- create embedding on the few_shots\n",
    "- Store the embeddings in Chroma DB\n",
    "- Retrieve the the top most Semantically close example from the vector store"
   ]
  },
  {
   "cell_type": "code",
   "execution_count": 8,
   "id": "54306b8d",
   "metadata": {},
   "outputs": [],
   "source": [
    "from langchain.prompts import SemanticSimilarityExampleSelector\n",
    "from langchain.embeddings import HuggingFaceEmbeddings\n",
    "from langchain.vectorstores import Chroma"
   ]
  },
  {
   "cell_type": "code",
   "execution_count": 9,
   "id": "0a916b73",
   "metadata": {},
   "outputs": [],
   "source": [
    "embeddings = HuggingFaceEmbeddings(model_name='sentence-transformers/all-MiniLM-L6-v2')\n",
    "\n",
    "to_vectorize = [\" \".join(example.values()) for example in few_shots]"
   ]
  },
  {
   "cell_type": "code",
   "execution_count": 10,
   "id": "95513027",
   "metadata": {
    "scrolled": false
   },
   "outputs": [
    {
     "data": {
      "text/plain": [
       "[\"Who reports to William Patterson? SELECT CONCAT(reports.firstname, ' ', reports.lastname) AS Employee FROM Employees boss JOIN Employees reports ON boss.employeeNumber = reports.reportsTo WHERE boss.firstName = 'William' and boss.lastName = 'Patterson'; Result of the SQL query 'Andy Fixter', 'Peter Marsh', 'Tom King'\",\n",
       " \"Compute the commission for each sales representative, assuming the commission is 5% of the value of an order. Sort by employee last name and first name SELECT CONCAT(firstName, ' ',lastName) AS Name, FORMAT(.05 * SUM(quantityOrdered * priceEach),0) AS Commission FROM Employees JOIN Customers ON Employees.employeeNumber = Customers.salesRepEmployeeNumber JOIN Orders ON Customers.customerNumber = Orders.customerNumber JOIN OrderDetails ON Orders.orderNumber = OrderDetails.orderNumber GROUP BY employeeNumber ORDER BY lastName, firstName ASC; Result of the SQL query 'Loui Bondur, 28,474', 'Larry Bott, 36,605', 'Pamela Castillo, 43,411', 'Julie Firrelli, 19,333','Andy Fixter, 28,129', 'Martin Gerard, 19,374'......\",\n",
       " \"What are the top 3 products by quantity of on hand for products listed on 'On Hold' orders? SELECT productName, FORMAT(quantityInStock,0) AS `Quantity in stock` FROM OrderDetails JOIN Orders ON Orders.orderNumber = OrderDetails.orderNumber JOIN Products on OrderDetails.productCode = Products.productCode WHERE status = 'On Hold' order by quantityInStock desc limit 3; Result of the SQL query 'America West Airlines B757-200, 9,653', '2002 Chevy Corvette, 9,446', '1912 Ford Model T Delivery Wagon, 9,173'\",\n",
       " 'What is the value of orders shipped in August 2004? SELECT FORMAT(SUM(quantityOrdered*priceEach),0) as orderValue FROM Orders JOIN OrderDetails ON Orders.orderNumber = OrderDetails. orderNumber AND YEAR(orderDate) = 2004 AND MONTH(orderDate) = 8; Result of the SQL query 419,327',\n",
       " 'What is the average percentage markup of the MSRP on buyPrice rounded to the nearest deicmal? SELECT ROUND(AVG(MSRP/buyPrice)*100 - 100) from Products; Result of the SQL query 89',\n",
       " 'Who are the employees in Boston? SELECT firstName, lastName FROM Employees JOIN Offices ON Employees.officeCode = Offices.officeCode AND city = \\'Boston\\'; Result of the SQL query \"Julie Firrelli\", \"Steve Patterson\"',\n",
       " 'List the names of the top 3 products (by inventory) sold at less than 80% of the MSRP. SELECT DISTINCT(productName), priceEach, MSRP, FORMAT(quantityInStock,0) AS `Quantity in stock` FROM OrderDetails JOIN Products ON OrderDetails.productCode = Products.productCode AND priceEach < .8*MSRP; Result of the SQL query 1976 Ford Gran Torino\\t117.59\\t146.99\\t9127, 1965 Aston Martin DB5\\t99.55\\t124.44\\t9042 American Airlines: MD-11S\\t59.22\\t74.03\\t8820',\n",
       " 'What are the top 3 most profitable product lines SELECT productLine AS `Product line`, FORMAT(SUM(quantityOrdered*(priceEach -buyPrice)),0) AS Profit FROM Products JOIN OrderDetails ON Products.productCode = OrderDetails.productCode GROUP BY productLine ORDER BY SUM(quantityOrdered*(priceEach -buyPrice)) DESC LIMIT 3; Result of the SQL query Classic Cars, Vintage Cars, and Motorcycles']"
      ]
     },
     "execution_count": 10,
     "metadata": {},
     "output_type": "execute_result"
    }
   ],
   "source": [
    "to_vectorize"
   ]
  },
  {
   "cell_type": "code",
   "execution_count": 11,
   "id": "d806f39b",
   "metadata": {},
   "outputs": [],
   "source": [
    "vectorstore = Chroma.from_texts(to_vectorize, embeddings, metadatas=few_shots)"
   ]
  },
  {
   "cell_type": "code",
   "execution_count": 12,
   "id": "f9cc4b0e",
   "metadata": {},
   "outputs": [
    {
     "data": {
      "text/plain": [
       "[{'Answer': \"'Andy Fixter', 'Peter Marsh', 'Tom King'\",\n",
       "  'Question': 'Who reports to William Patterson?',\n",
       "  'SQLQuery': \"SELECT CONCAT(reports.firstname, ' ', reports.lastname) AS Employee FROM Employees boss JOIN Employees reports ON boss.employeeNumber = reports.reportsTo WHERE boss.firstName = 'William' and boss.lastName = 'Patterson';\",\n",
       "  'SQLResult': 'Result of the SQL query'},\n",
       " {'Answer': '\"Julie Firrelli\", \"Steve Patterson\"',\n",
       "  'Question': 'Who are the employees in Boston?',\n",
       "  'SQLQuery': \"SELECT firstName, lastName FROM Employees JOIN Offices ON Employees.officeCode = Offices.officeCode AND city = 'Boston';\",\n",
       "  'SQLResult': 'Result of the SQL query'}]"
      ]
     },
     "execution_count": 12,
     "metadata": {},
     "output_type": "execute_result"
    }
   ],
   "source": [
    "example_selector = SemanticSimilarityExampleSelector(\n",
    "    vectorstore=vectorstore,\n",
    "    k=2,\n",
    ")\n",
    "\n",
    "example_selector.select_examples({\"Question\": \"Who reports to Mary Patterson?\"})"
   ]
  },
  {
   "cell_type": "code",
   "execution_count": 13,
   "id": "537bda5a",
   "metadata": {},
   "outputs": [
    {
     "data": {
      "text/plain": [
       "[{'Answer': \"'America West Airlines B757-200, 9,653', '2002 Chevy Corvette, 9,446', '1912 Ford Model T Delivery Wagon, 9,173'\",\n",
       "  'Question': \"What are the top 3 products by quantity of on hand for products listed on 'On Hold' orders?\",\n",
       "  'SQLQuery': \"SELECT productName, FORMAT(quantityInStock,0) AS `Quantity in stock` FROM OrderDetails JOIN Orders ON Orders.orderNumber = OrderDetails.orderNumber JOIN Products on OrderDetails.productCode = Products.productCode WHERE status = 'On Hold' order by quantityInStock desc limit 3;\",\n",
       "  'SQLResult': 'Result of the SQL query'},\n",
       " {'Answer': \"'Loui Bondur, 28,474', 'Larry Bott, 36,605', 'Pamela Castillo, 43,411', 'Julie Firrelli, 19,333','Andy Fixter, 28,129', 'Martin Gerard, 19,374'......\",\n",
       "  'Question': 'Compute the commission for each sales representative, assuming the commission is 5% of the value of an order. Sort by employee last name and first name',\n",
       "  'SQLQuery': \"SELECT CONCAT(firstName, ' ',lastName) AS Name, FORMAT(.05 * SUM(quantityOrdered * priceEach),0) AS Commission FROM Employees JOIN Customers ON Employees.employeeNumber = Customers.salesRepEmployeeNumber JOIN Orders ON Customers.customerNumber = Orders.customerNumber JOIN OrderDetails ON Orders.orderNumber = OrderDetails.orderNumber GROUP BY employeeNumber ORDER BY lastName, firstName ASC;\",\n",
       "  'SQLResult': 'Result of the SQL query'}]"
      ]
     },
     "execution_count": 13,
     "metadata": {},
     "output_type": "execute_result"
    }
   ],
   "source": [
    "example_selector.select_examples({\"Question\": \"Report the number of orders 'On Hold' for each customer.\"})"
   ]
  },
  {
   "cell_type": "code",
   "execution_count": 14,
   "id": "25ae0a01",
   "metadata": {},
   "outputs": [
    {
     "data": {
      "text/plain": [
       "[{'Answer': \"'America West Airlines B757-200, 9,653', '2002 Chevy Corvette, 9,446', '1912 Ford Model T Delivery Wagon, 9,173'\",\n",
       "  'Question': \"What are the top 3 products by quantity of on hand for products listed on 'On Hold' orders?\",\n",
       "  'SQLQuery': \"SELECT productName, FORMAT(quantityInStock,0) AS `Quantity in stock` FROM OrderDetails JOIN Orders ON Orders.orderNumber = OrderDetails.orderNumber JOIN Products on OrderDetails.productCode = Products.productCode WHERE status = 'On Hold' order by quantityInStock desc limit 3;\",\n",
       "  'SQLResult': 'Result of the SQL query'},\n",
       " {'Answer': 'Classic Cars, Vintage Cars, and Motorcycles',\n",
       "  'Question': 'What are the top 3 most profitable product lines',\n",
       "  'SQLQuery': 'SELECT productLine AS `Product line`, FORMAT(SUM(quantityOrdered*(priceEach -buyPrice)),0) AS Profit FROM Products JOIN OrderDetails ON Products.productCode = OrderDetails.productCode GROUP BY productLine ORDER BY SUM(quantityOrdered*(priceEach -buyPrice)) DESC LIMIT 3;',\n",
       "  'SQLResult': 'Result of the SQL query'}]"
      ]
     },
     "execution_count": 14,
     "metadata": {},
     "output_type": "execute_result"
    }
   ],
   "source": [
    "example_selector.select_examples({\"Question\": \"List all the products purchased by Herkku Gifts\"})"
   ]
  },
  {
   "cell_type": "code",
   "execution_count": 15,
   "id": "485d270b",
   "metadata": {},
   "outputs": [],
   "source": [
    "### my sql based instruction prompt\n",
    "mysql_prompt = \"\"\"You are a MySQL expert. Given an input question, first create a syntactically correct MySQL query to run, then look at the results of the query and return the answer to the input question.\n",
    "Unless the user specifies in the question a specific number of examples to obtain, query for at most {top_k} results using the LIMIT clause as per MySQL. You can order the results to return the most informative data in the database.\n",
    "Never query for all columns from a table. You must query only the columns that are needed to answer the question. Wrap each column name in backticks (`) to denote them as delimited identifiers.\n",
    "Pay attention to use only the column names you can see in the tables below. Be careful to not query for columns that do not exist. Also, pay attention to which column is in which table.\n",
    "Pay attention to use CURDATE() function to get the current date, if the question involves \"today\".\n",
    "\n",
    "Use the following format:\n",
    "\n",
    "Question: Question here\n",
    "SQLQuery: Query to run with no pre-amble\n",
    "SQLResult: Result of the SQLQuery\n",
    "Answer: Final answer here\n",
    "\n",
    "No pre-amble.\n",
    "\"\"\""
   ]
  },
  {
   "cell_type": "code",
   "execution_count": 16,
   "id": "357ca60f",
   "metadata": {
    "scrolled": true
   },
   "outputs": [
    {
     "name": "stdout",
     "output_type": "stream",
     "text": [
      "Only use the following tables:\n",
      "{table_info}\n",
      "\n",
      "Question: {input}\n"
     ]
    }
   ],
   "source": [
    "from langchain.prompts import FewShotPromptTemplate\n",
    "from langchain.chains.sql_database.prompt import PROMPT_SUFFIX, _mysql_prompt\n",
    "\n",
    "print(PROMPT_SUFFIX)"
   ]
  },
  {
   "cell_type": "markdown",
   "id": "20224496",
   "metadata": {},
   "source": [
    "### Setting up PromptTemplete using input variables"
   ]
  },
  {
   "cell_type": "code",
   "execution_count": 17,
   "id": "3337e4a0",
   "metadata": {},
   "outputs": [],
   "source": [
    "from langchain.prompts.prompt import PromptTemplate\n",
    "\n",
    "example_prompt = PromptTemplate(\n",
    "    input_variables=[\"Question\", \"SQLQuery\", \"SQLResult\",\"Answer\",],\n",
    "    template=\"\\nQuestion: {Question}\\nSQLQuery: {SQLQuery}\\nSQLResult: {SQLResult}\\nAnswer: {Answer}\",\n",
    ")"
   ]
  },
  {
   "cell_type": "code",
   "execution_count": 18,
   "id": "5157663d",
   "metadata": {},
   "outputs": [
    {
     "name": "stdout",
     "output_type": "stream",
     "text": [
      "You are a MySQL expert. Given an input question, first create a syntactically correct MySQL query to run, then look at the results of the query and return the answer to the input question.\n",
      "Unless the user specifies in the question a specific number of examples to obtain, query for at most {top_k} results using the LIMIT clause as per MySQL. You can order the results to return the most informative data in the database.\n",
      "Never query for all columns from a table. You must query only the columns that are needed to answer the question. Wrap each column name in backticks (`) to denote them as delimited identifiers.\n",
      "Pay attention to use only the column names you can see in the tables below. Be careful to not query for columns that do not exist. Also, pay attention to which column is in which table.\n",
      "Pay attention to use CURDATE() function to get the current date, if the question involves \"today\".\n",
      "\n",
      "Use the following format:\n",
      "\n",
      "Question: Question here\n",
      "SQLQuery: SQL Query to run\n",
      "SQLResult: Result of the SQLQuery\n",
      "Answer: Final answer here\n",
      "\n",
      "\n"
     ]
    }
   ],
   "source": [
    "print(_mysql_prompt)"
   ]
  },
  {
   "cell_type": "code",
   "execution_count": 19,
   "id": "5736eb12",
   "metadata": {},
   "outputs": [],
   "source": [
    "few_shot_prompt = FewShotPromptTemplate(\n",
    "    example_selector=example_selector,\n",
    "    example_prompt=example_prompt,\n",
    "    prefix=mysql_prompt,\n",
    "    suffix=PROMPT_SUFFIX,\n",
    "    input_variables=[\"input\", \"table_info\", \"top_k\"], #These variables are used in the prefix and suffix\n",
    ")"
   ]
  },
  {
   "cell_type": "code",
   "execution_count": 20,
   "id": "c23d156c",
   "metadata": {},
   "outputs": [],
   "source": [
    "new_chain = SQLDatabaseChain.from_llm(llm, db, verbose=True, prompt=few_shot_prompt)"
   ]
  },
  {
   "cell_type": "code",
   "execution_count": 24,
   "id": "06fa22a1",
   "metadata": {},
   "outputs": [
    {
     "name": "stdout",
     "output_type": "stream",
     "text": [
      "\n",
      "\n",
      "\u001b[1m> Entering new SQLDatabaseChain chain...\u001b[0m\n",
      "Find the products sold in 2003 but not 2004.\n",
      "SQLQuery:\u001b[32;1m\u001b[1;3mSELECT DISTINCT productName FROM Products JOIN OrderDetails ON Products.productCode = OrderDetails.productCode JOIN Orders ON OrderDetails.orderNumber = Orders.orderNumber WHERE YEAR(Orders.orderDate) = 2003 AND Products.productCode NOT IN (SELECT productCode FROM OrderDetails JOIN Orders ON OrderDetails.orderNumber = Orders.orderNumber WHERE YEAR(Orders.orderDate) = 2004);\u001b[0m\n",
      "SQLResult: \u001b[33;1m\u001b[1;3m\u001b[0m\n",
      "Answer:\u001b[32;1m\u001b[1;3m1952 Alpine Renault 1300, 1996 Moto Guzzi 1100i, 1993 Mazda RX-7, 1937 Lincoln Berline, 1936 Mercedes Benz 500k Roadster\u001b[0m\n",
      "\u001b[1m> Finished chain.\u001b[0m\n"
     ]
    },
    {
     "data": {
      "text/plain": [
       "{'query': 'Find the products sold in 2003 but not 2004.',\n",
       " 'result': '1952 Alpine Renault 1300, 1996 Moto Guzzi 1100i, 1993 Mazda RX-7, 1937 Lincoln Berline, 1936 Mercedes Benz 500k Roadster'}"
      ]
     },
     "execution_count": 24,
     "metadata": {},
     "output_type": "execute_result"
    }
   ],
   "source": [
    "new_chain(\"Find the products sold in 2003 but not 2004.\")"
   ]
  },
  {
   "cell_type": "code",
   "execution_count": 32,
   "id": "f7b9afce",
   "metadata": {},
   "outputs": [
    {
     "name": "stdout",
     "output_type": "stream",
     "text": [
      "\n",
      "\n",
      "\u001b[1m> Entering new SQLDatabaseChain chain...\u001b[0m\n",
      "What are the top 3 most profitable product lines and the profits calculated for each product line\n",
      "SQLQuery:\u001b[32;1m\u001b[1;3mSELECT productLine AS `Product line`, FORMAT(SUM(quantityOrdered*(priceEach -buyPrice)),0) AS Profit FROM Products JOIN OrderDetails ON Products.productCode = OrderDetails.productCode GROUP BY productLine ORDER BY SUM(quantityOrdered*(priceEach -buyPrice)) DESC LIMIT 3;\u001b[0m\n",
      "SQLResult: \u001b[33;1m\u001b[1;3m[('Classic Cars', '1,526,212'), ('Vintage Cars', '737,268'), ('Motorcycles', '469,255')]\u001b[0m\n",
      "Answer:\u001b[32;1m\u001b[1;3mClassic Cars, Vintage Cars, and Motorcycles with profits of $1,526,212, $737,268, and $469,255 respectively.\u001b[0m\n",
      "\u001b[1m> Finished chain.\u001b[0m\n"
     ]
    },
    {
     "data": {
      "text/plain": [
       "{'query': 'What are the top 3 most profitable product lines and the profits calculated for each product line',\n",
       " 'result': 'Classic Cars, Vintage Cars, and Motorcycles with profits of $1,526,212, $737,268, and $469,255 respectively.'}"
      ]
     },
     "execution_count": 32,
     "metadata": {},
     "output_type": "execute_result"
    }
   ],
   "source": [
    "new_chain(\"What are the top 3 most profitable product lines and the profits calculated for each product line\")"
   ]
  },
  {
   "cell_type": "code",
   "execution_count": 41,
   "id": "941f2104",
   "metadata": {},
   "outputs": [
    {
     "name": "stdout",
     "output_type": "stream",
     "text": [
      "\n",
      "\n",
      "\u001b[1m> Entering new SQLDatabaseChain chain...\u001b[0m\n",
      "Display the difference in the amount received for each month of 2004 compared to 2003?\n",
      "SQLQuery:\u001b[32;1m\u001b[1;3mSELECT FORMAT(SUM(amount),0) AS Difference FROM Payments WHERE YEAR(paymentDate) = 2004 GROUP BY MONTH(paymentDate) UNION SELECT FORMAT(SUM(amount),0) AS Difference FROM Payments WHERE YEAR(paymentDate) = 2003 GROUP BY MONTH(paymentDate);\u001b[0m\n",
      "SQLResult: \u001b[33;1m\u001b[1;3m[('185,103',), ('819,286',), ('378,094',), ('404,603',), ('857,187',), ('476,446',), ('234,152',), ('284,191',), ('208,524',), ('173,246',), ('106,652',), ('185,843',), ('180,219',), ('159,882',), ('144,384',), ('316,858',), ('136,314',), ('246,205',), ('694,293',), ('26,268',), ('826,638',), ('199,704',), ('158,247',), ('161,206',)]\u001b[0m\n",
      "Answer:\u001b[32;1m\u001b[1;3mThe difference in the amount received for each month of 2004 compared to 2003 is: 185,103, 819,286, 378,094, 404,603, 857,187, 476,446, 234,152, 284,191, 208,524, 173,246, 106,652, 185,843, 180,219, 159,882, 144,384, 316,858, 136,314, 246,205, 694,293, 26,268, 826,638, 199,704, 158,247, 161,206.\u001b[0m\n",
      "\u001b[1m> Finished chain.\u001b[0m\n"
     ]
    },
    {
     "data": {
      "text/plain": [
       "{'query': 'Display the difference in the amount received for each month of 2004 compared to 2003?',\n",
       " 'result': 'The difference in the amount received for each month of 2004 compared to 2003 is: 185,103, 819,286, 378,094, 404,603, 857,187, 476,446, 234,152, 284,191, 208,524, 173,246, 106,652, 185,843, 180,219, 159,882, 144,384, 316,858, 136,314, 246,205, 694,293, 26,268, 826,638, 199,704, 158,247, 161,206.'}"
      ]
     },
     "execution_count": 41,
     "metadata": {},
     "output_type": "execute_result"
    }
   ],
   "source": [
    "new_chain(\"Display the difference in the amount received for each month of 2004 compared to 2003?\")"
   ]
  },
  {
   "cell_type": "code",
   "execution_count": 29,
   "id": "c95bd4ec",
   "metadata": {},
   "outputs": [
    {
     "name": "stdout",
     "output_type": "stream",
     "text": [
      "\n",
      "\n",
      "\u001b[1m> Entering new SQLDatabaseChain chain...\u001b[0m\n",
      "What is the percentage value of each product in inventory sorted by the highest percentage. Display only the top 5\n",
      "SQLQuery:\u001b[32;1m\u001b[1;3mSELECT productName, FORMAT(quantityInStock/(SELECT SUM(quantityInStock) FROM Products)*100,2) AS `Percentage in stock` FROM Products ORDER BY `Percentage in stock` DESC LIMIT 5;\u001b[0m\n",
      "SQLResult: \u001b[33;1m\u001b[1;3m[('2002 Suzuki XREO', '1.80'), ('1995 Honda Civic', '1.76'), ('America West Airlines B757-200', '1.74'), ('2002 Chevy Corvette', '1.70'), ('1932 Model A Ford J-Coupe', '1.69')]\u001b[0m\n",
      "Answer:\u001b[32;1m\u001b[1;3m2002 Suzuki XREO, 1.80%; 1995 Honda Civic, 1.76%; America West Airlines B757-200, 1.74%; 2002 Chevy Corvette, 1.70%; 1932 Model A Ford J-Coupe, 1.69%\u001b[0m\n",
      "\u001b[1m> Finished chain.\u001b[0m\n"
     ]
    },
    {
     "data": {
      "text/plain": [
       "{'query': 'What is the percentage value of each product in inventory sorted by the highest percentage. Display only the top 5',\n",
       " 'result': '2002 Suzuki XREO, 1.80%; 1995 Honda Civic, 1.76%; America West Airlines B757-200, 1.74%; 2002 Chevy Corvette, 1.70%; 1932 Model A Ford J-Coupe, 1.69%'}"
      ]
     },
     "execution_count": 29,
     "metadata": {},
     "output_type": "execute_result"
    }
   ],
   "source": [
    "new_chain(\"What is the percentage value of each product in inventory sorted by the highest percentage. Display only the top 5\")"
   ]
  },
  {
   "cell_type": "code",
   "execution_count": 42,
   "id": "f18627ce",
   "metadata": {},
   "outputs": [
    {
     "name": "stdout",
     "output_type": "stream",
     "text": [
      "\n",
      "\n",
      "\u001b[1m> Entering new SQLDatabaseChain chain...\u001b[0m\n",
      "WITH\n",
      "t2003 AS (SELECT YEAR(paymentDate) AS 'year', MONTH(paymentDate) AS 'month', sum(amount) AS amount FROM Payments\n",
      "WHERE YEAR(paymentDate) = 2003\n",
      "GROUP BY YEAR(paymentDate), MONTH(paymentDate)),\n",
      "t2004 AS (SELECT YEAR(paymentDate) AS 'year', MONTH(paymentDate) AS 'month', sum(amount) AS amount FROM Payments\n",
      "WHERE YEAR(paymentDate) = 2004\n",
      "GROUP BY YEAR(paymentDate), MONTH(paymentDate))\n",
      "SELECT t2003.month,format((t2004.amount - t2003.amount),2) AS variance\n",
      "FROM t2003 JOIN t2004\n",
      "ON t2003.month = t2004.month\n",
      "ORDER BY t2003.month;\n",
      "SQLQuery:\u001b[32;1m\u001b[1;3mSELECT t2003.month, FORMAT((t2004.amount - t2003.amount), 2) AS variance\n",
      "FROM (SELECT YEAR(paymentDate) AS 'year', MONTH(paymentDate) AS 'month', SUM(amount) AS amount FROM Payments\n",
      "WHERE YEAR(paymentDate) = 2003\n",
      "GROUP BY YEAR(paymentDate), MONTH(paymentDate)) AS t2003\n",
      "JOIN (SELECT YEAR(paymentDate) AS 'year', MONTH(paymentDate) AS 'month', SUM(amount) AS amount FROM Payments\n",
      "WHERE YEAR(paymentDate) = 2004\n",
      "GROUP BY YEAR(paymentDate), MONTH(paymentDate)) AS t2004\n",
      "ON t2003.month = t2004.month\n",
      "ORDER BY t2003.month;\u001b[0m\n",
      "SQLResult: \u001b[33;1m\u001b[1;3m[(1, '207,884.51'), (2, '-37,732.35'), (3, '204,898.73'), (4, '36,932.04'), (5, '48,642.45'), (6, '5,623.88'), (7, '125,944.48'), (8, '131,889.44'), (9, '315,239.30'), (10, '-131,754.53'), (11, '162,894.62'), (12, '-7,352.02')]\u001b[0m\n",
      "Answer:\u001b[32;1m\u001b[1;3mThe variance in payments between 2003 and 2004 for each month, sorted by month.\u001b[0m\n",
      "\u001b[1m> Finished chain.\u001b[0m\n"
     ]
    },
    {
     "data": {
      "text/plain": [
       "'The variance in payments between 2003 and 2004 for each month, sorted by month.'"
      ]
     },
     "execution_count": 42,
     "metadata": {},
     "output_type": "execute_result"
    }
   ],
   "source": [
    "new_chain.run(\"\"\"WITH\n",
    "t2003 AS (SELECT YEAR(paymentDate) AS 'year', MONTH(paymentDate) AS 'month', sum(amount) AS amount FROM Payments\n",
    "WHERE YEAR(paymentDate) = 2003\n",
    "GROUP BY YEAR(paymentDate), MONTH(paymentDate)),\n",
    "t2004 AS (SELECT YEAR(paymentDate) AS 'year', MONTH(paymentDate) AS 'month', sum(amount) AS amount FROM Payments\n",
    "WHERE YEAR(paymentDate) = 2004\n",
    "GROUP BY YEAR(paymentDate), MONTH(paymentDate))\n",
    "SELECT t2003.month,format((t2004.amount - t2003.amount),2) AS variance\n",
    "FROM t2003 JOIN t2004\n",
    "ON t2003.month = t2004.month\n",
    "ORDER BY t2003.month;\"\"\")"
   ]
  },
  {
   "cell_type": "code",
   "execution_count": null,
   "id": "ec8061af",
   "metadata": {},
   "outputs": [],
   "source": []
  },
  {
   "cell_type": "code",
   "execution_count": null,
   "id": "a2212e7c",
   "metadata": {},
   "outputs": [],
   "source": []
  },
  {
   "cell_type": "code",
   "execution_count": null,
   "id": "74873912",
   "metadata": {},
   "outputs": [],
   "source": []
  }
 ],
 "metadata": {
  "kernelspec": {
   "display_name": "Python 3 (ipykernel)",
   "language": "python",
   "name": "python3"
  },
  "language_info": {
   "codemirror_mode": {
    "name": "ipython",
    "version": 3
   },
   "file_extension": ".py",
   "mimetype": "text/x-python",
   "name": "python",
   "nbconvert_exporter": "python",
   "pygments_lexer": "ipython3",
   "version": "3.11.3"
  }
 },
 "nbformat": 4,
 "nbformat_minor": 5
}
